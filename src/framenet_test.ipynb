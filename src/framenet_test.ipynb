{
 "cells": [
  {
   "cell_type": "markdown",
   "metadata": {},
   "source": [
    "### FrameNet Testing:"
   ]
  },
  {
   "cell_type": "code",
   "execution_count": 1,
   "metadata": {},
   "outputs": [
    {
     "name": "stderr",
     "output_type": "stream",
     "text": [
      "[nltk_data] Downloading package wordnet to\n",
      "[nltk_data]     /Users/ricklattin/nltk_data...\n",
      "[nltk_data] Downloading package framenet_v17 to\n",
      "[nltk_data]     /Users/ricklattin/nltk_data...\n",
      "[nltk_data]   Unzipping corpora/framenet_v17.zip.\n"
     ]
    },
    {
     "data": {
      "text/plain": [
       "True"
      ]
     },
     "execution_count": 1,
     "metadata": {},
     "output_type": "execute_result"
    }
   ],
   "source": [
    "import nltk\n",
    "from nltk.corpus import framenet as fn\n",
    "\n",
    "nltk.download(\"wordnet\")\n",
    "nltk.download(\"framenet_v17\")"
   ]
  },
  {
   "cell_type": "code",
   "execution_count": 2,
   "metadata": {},
   "outputs": [],
   "source": [
    "# Function to extract frame elements from a tagged sentence\n",
    "def extract_frame_elements(tagged_sentence):\n",
    "    frame_elements = set()\n",
    "    for word, frame_name in tagged_sentence:\n",
    "        if frame_name:\n",
    "            frame = fn.frame_by_name(frame_name)\n",
    "            for fe in frame.FE:\n",
    "                frame_elements.add(fe)\n",
    "    return frame_elements"
   ]
  },
  {
   "cell_type": "code",
   "execution_count": 3,
   "metadata": {},
   "outputs": [
    {
     "name": "stdout",
     "output_type": "stream",
     "text": [
      "Frame Elements: {'Place', 'Period_of_iterations', 'Money', 'Seller', 'Goods', 'Manner', 'Recipient', 'Means', 'Purpose', 'Rate', 'Buyer', 'Time', 'Imposed_purpose', 'Unit', 'Explanation'}\n"
     ]
    }
   ],
   "source": [
    "# Example tagged sentence\n",
    "tagged_sentence = [(\"He\", None), (\"bought\", \"Commerce_buy\"), (\"a\", None), (\"new\", None), (\"car\", \"Commerce_buy\")]\n",
    "\n",
    "# Extract frame elements\n",
    "frame_elements = extract_frame_elements(tagged_sentence)\n",
    "\n",
    "# Print frame elements\n",
    "print(\"Frame Elements:\", frame_elements)"
   ]
  },
  {
   "cell_type": "markdown",
   "metadata": {},
   "source": [
    "### BERT Testing:"
   ]
  },
  {
   "cell_type": "code",
   "execution_count": 13,
   "metadata": {},
   "outputs": [
    {
     "name": "stderr",
     "output_type": "stream",
     "text": [
      "Some weights of the PyTorch model were not used when initializing the TF 2.0 model TFBertModel: ['cls.predictions.transform.dense.bias', 'cls.predictions.transform.LayerNorm.weight', 'cls.seq_relationship.bias', 'cls.predictions.transform.LayerNorm.bias', 'cls.predictions.bias', 'cls.predictions.transform.dense.weight', 'cls.seq_relationship.weight']\n",
      "- This IS expected if you are initializing TFBertModel from a PyTorch model trained on another task or with another architecture (e.g. initializing a TFBertForSequenceClassification model from a BertForPreTraining model).\n",
      "- This IS NOT expected if you are initializing TFBertModel from a PyTorch model that you expect to be exactly identical (e.g. initializing a TFBertForSequenceClassification model from a BertForSequenceClassification model).\n",
      "All the weights of TFBertModel were initialized from the PyTorch model.\n",
      "If your task is similar to the task the model of the checkpoint was trained on, you can already use TFBertModel for predictions without further training.\n"
     ]
    }
   ],
   "source": [
    "from transformers import BertTokenizer, TFBertModel\n",
    "\n",
    "transfer_model_name = 'bert-base-uncased'\n",
    "bert_tokenizer = BertTokenizer.from_pretrained(transfer_model_name)\n",
    "bert_model = TFBertModel.from_pretrained(transfer_model_name)\n",
    "\n",
    "# freezing all layers of bert model\n",
    "for l in bert_model.bert.encoder.layer:\n",
    "        l.trainable = False\n",
    "bert_model.bert.embeddings.trainable = False\n",
    "bert_model.bert.pooler.trainable = False\n"
   ]
  },
  {
   "cell_type": "code",
   "execution_count": 14,
   "metadata": {},
   "outputs": [
    {
     "name": "stdout",
     "output_type": "stream",
     "text": [
      "Model: \"tf_bert_model_5\"\n",
      "_________________________________________________________________\n",
      " Layer (type)                Output Shape              Param #   \n",
      "=================================================================\n",
      " bert (TFBertMainLayer)      multiple                  109482240 \n",
      "                                                                 \n",
      "=================================================================\n",
      "Total params: 109,482,240\n",
      "Trainable params: 0\n",
      "Non-trainable params: 109,482,240\n",
      "_________________________________________________________________\n"
     ]
    }
   ],
   "source": [
    "bert_model.summary()"
   ]
  },
  {
   "cell_type": "code",
   "execution_count": 15,
   "metadata": {},
   "outputs": [
    {
     "name": "stdout",
     "output_type": "stream",
     "text": [
      "{'input_ids': <tf.Tensor: shape=(2, 6), dtype=int32, numpy=\n",
      "array([[ 101, 2023, 3899, 2003, 2502,  102],\n",
      "       [ 101, 2023, 3899, 2003, 8403,  102]], dtype=int32)>, 'token_type_ids': <tf.Tensor: shape=(2, 6), dtype=int32, numpy=\n",
      "array([[0, 0, 0, 0, 0, 0],\n",
      "       [0, 0, 0, 0, 0, 0]], dtype=int32)>, 'attention_mask': <tf.Tensor: shape=(2, 6), dtype=int32, numpy=\n",
      "array([[1, 1, 1, 1, 1, 1],\n",
      "       [1, 1, 1, 1, 1, 1]], dtype=int32)>}\n"
     ]
    }
   ],
   "source": [
    "# Sample sentence\n",
    "sentence = \"This dog is big\"\n",
    "sentence2 = \"This dog is lovely\"\n",
    "\n",
    "# Tokenize the input sentence\n",
    "inputs = bert_tokenizer([sentence, sentence2], padding=True,\n",
    "return_tensors=\"tf\")\n",
    "\n",
    "print(inputs)"
   ]
  },
  {
   "cell_type": "code",
   "execution_count": null,
   "metadata": {},
   "outputs": [],
   "source": []
  }
 ],
 "metadata": {
  "kernelspec": {
   "display_name": "mlenv",
   "language": "python",
   "name": "python3"
  },
  "language_info": {
   "codemirror_mode": {
    "name": "ipython",
    "version": 3
   },
   "file_extension": ".py",
   "mimetype": "text/x-python",
   "name": "python",
   "nbconvert_exporter": "python",
   "pygments_lexer": "ipython3",
   "version": "3.8.17"
  }
 },
 "nbformat": 4,
 "nbformat_minor": 2
}
