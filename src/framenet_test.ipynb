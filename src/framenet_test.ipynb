{
 "cells": [
  {
   "cell_type": "code",
   "execution_count": 1,
   "metadata": {},
   "outputs": [
    {
     "name": "stderr",
     "output_type": "stream",
     "text": [
      "[nltk_data] Downloading package wordnet to\n",
      "[nltk_data]     /Users/ryanschaefer/nltk_data...\n",
      "[nltk_data]   Package wordnet is already up-to-date!\n",
      "[nltk_data] Downloading package framenet_v17 to\n",
      "[nltk_data]     /Users/ryanschaefer/nltk_data...\n",
      "[nltk_data]   Unzipping corpora/framenet_v17.zip.\n"
     ]
    },
    {
     "data": {
      "text/plain": [
       "True"
      ]
     },
     "execution_count": 1,
     "metadata": {},
     "output_type": "execute_result"
    }
   ],
   "source": [
    "import nltk\n",
    "from nltk.corpus import framenet as fn\n",
    "\n",
    "nltk.download(\"wordnet\")\n",
    "nltk.download(\"framenet_v17\")"
   ]
  },
  {
   "cell_type": "code",
   "execution_count": 2,
   "metadata": {},
   "outputs": [],
   "source": [
    "# Function to extract frame elements from a tagged sentence\n",
    "def extract_frame_elements(tagged_sentence):\n",
    "    frame_elements = set()\n",
    "    for word, frame_name in tagged_sentence:\n",
    "        if frame_name:\n",
    "            frame = fn.frame_by_name(frame_name)\n",
    "            for fe in frame.FE:\n",
    "                frame_elements.add(fe)\n",
    "    return frame_elements"
   ]
  },
  {
   "cell_type": "code",
   "execution_count": 3,
   "metadata": {},
   "outputs": [
    {
     "name": "stdout",
     "output_type": "stream",
     "text": [
      "Frame Elements: {'Explanation', 'Buyer', 'Goods', 'Means', 'Place', 'Time', 'Recipient', 'Imposed_purpose', 'Unit', 'Seller', 'Period_of_iterations', 'Manner', 'Rate', 'Purpose', 'Money'}\n"
     ]
    }
   ],
   "source": [
    "# Example tagged sentence\n",
    "tagged_sentence = [(\"He\", None), (\"bought\", \"Commerce_buy\"), (\"a\", None), (\"new\", None), (\"car\", \"Commerce_buy\")]\n",
    "\n",
    "# Extract frame elements\n",
    "frame_elements = extract_frame_elements(tagged_sentence)\n",
    "\n",
    "# Print frame elements\n",
    "print(\"Frame Elements:\", frame_elements)"
   ]
  },
  {
   "cell_type": "code",
   "execution_count": null,
   "metadata": {},
   "outputs": [],
   "source": []
  }
 ],
 "metadata": {
  "kernelspec": {
   "display_name": "mlenv",
   "language": "python",
   "name": "python3"
  },
  "language_info": {
   "codemirror_mode": {
    "name": "ipython",
    "version": 3
   },
   "file_extension": ".py",
   "mimetype": "text/x-python",
   "name": "python",
   "nbconvert_exporter": "python",
   "pygments_lexer": "ipython3",
   "version": "3.8.17"
  }
 },
 "nbformat": 4,
 "nbformat_minor": 2
}
